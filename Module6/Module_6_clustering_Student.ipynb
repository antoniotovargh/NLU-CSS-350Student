{
  "cells": [
    {
      "cell_type": "markdown",
      "metadata": {
        "id": "k5IjDC6bEJ1m"
      },
      "source": [
        "## Exercise - cluster your data\n",
        "\n",
        "Clustering as a technique is greatly aided by proper visualization, so let's get started by visualizing our music data file. This exercise will help us decide which of the methods of clustering we should most effectively use for the nature of this data.\n",
        "\n",
        "1. Open the Mdoule_6_lab_student.ipynb notebook file provided by your professor.\n",
        "\n",
        "2. Import the Seaborn package for good data visualization.\n",
        "\n",
        "> > !pip install seaborn\n",
        "\n",
        "3. Open the song data from nigerian-songs.csv (Provided by your professor - you may need to adjust the folder of the file location). Load up a dataframe with some data about the songs. Get ready to explore this data by importing the libraries and dumping out the data:"
      ]
    },
    {
      "cell_type": "code",
      "execution_count": null,
      "metadata": {
        "id": "vM0xNOUXEJ1q"
      },
      "outputs": [],
      "source": [
        "# Load libraries\n",
        "\n",
        "import matplotlib.pyplot as plt\n",
        "import pandas as pd\n",
        "\n",
        "df = pd.read_csv(\"../data/nigerian-songs.csv\")\n",
        "df.head()\n",
        "\n",
        "# Check the first few lines of data:"
      ]
    },
    {
      "cell_type": "markdown",
      "metadata": {
        "id": "X-YJjn7gEJ1t"
      },
      "source": [
        "4. Get some information about the dataframe, calling info():"
      ]
    },
    {
      "cell_type": "code",
      "execution_count": null,
      "metadata": {
        "id": "8gkuDHk3EJ1t"
      },
      "outputs": [],
      "source": [
        "df.info()\n",
        "\n",
        "#The output looking like so:"
      ]
    },
    {
      "cell_type": "markdown",
      "metadata": {
        "id": "02_7WY-hEJ1t"
      },
      "source": [
        "5. Double-check for null values, by calling isnull() and verifying the sum being 0:"
      ]
    },
    {
      "cell_type": "code",
      "execution_count": null,
      "metadata": {
        "id": "iseu5-g-EJ1u"
      },
      "outputs": [],
      "source": [
        "df.isnull().sum()"
      ]
    },
    {
      "cell_type": "markdown",
      "metadata": {
        "id": "m5Lve1L6EJ1u"
      },
      "source": [
        "6. Describe the data:"
      ]
    },
    {
      "cell_type": "code",
      "execution_count": null,
      "metadata": {
        "id": "YD6E8om6EJ1v"
      },
      "outputs": [],
      "source": [
        "df.describe()"
      ]
    },
    {
      "cell_type": "markdown",
      "metadata": {
        "id": "LvLUXeJXEJ1v"
      },
      "source": [
        "🤔 If we are working with clustering, an unsupervised method that does not require labeled data, why are we showing this data with labels? In the data exploration phase, they come in handy, but they are not necessary for the clustering algorithms to work. You could just as well remove the column headers and refer to the data by column number.\n",
        "\n",
        "Look at the general values of the data. Note that popularity can be '0', which show songs that have no ranking. Let's remove those shortly.\n",
        "\n",
        "1. Use a barplot to find out the most popular genres:"
      ]
    },
    {
      "cell_type": "code",
      "execution_count": null,
      "metadata": {
        "id": "-Xa3EN-MEJ1w"
      },
      "outputs": [],
      "source": [
        "import seaborn as sns\n",
        "\n",
        "top = df['artist_top_genre'].value_counts()\n",
        "plt.figure(figsize=(10,7))\n",
        "sns.barplot(x=top[:5].index,y=top[:5].values)\n",
        "plt.xticks(rotation=45)\n",
        "plt.title('Top genres',color = 'blue')"
      ]
    },
    {
      "cell_type": "markdown",
      "metadata": {
        "id": "PBZxEL6kEJ1w"
      },
      "source": [
        "✅ If you'd like to see more top values, change the top [:5] to a bigger value, or remove it to see all.\n",
        "\n",
        "Note, when the top genre is described as 'Missing', that means that Spotify did not classify it, so let's get rid of it.\n",
        "\n",
        "1. Get rid of missing data by filtering it out"
      ]
    },
    {
      "cell_type": "code",
      "execution_count": null,
      "metadata": {
        "id": "k0gDRd_GEJ1x"
      },
      "outputs": [],
      "source": [
        "df = df[df['artist_top_genre'] != 'Missing']\n",
        "top = df['artist_top_genre'].value_counts()\n",
        "plt.figure(figsize=(10,7))\n",
        "sns.barplot(x=top.index,y=top.values)\n",
        "plt.xticks(rotation=45)\n",
        "plt.title('Top genres',color = 'blue')\n",
        "\n",
        "# Make sure to recheck the genres:"
      ]
    },
    {
      "cell_type": "markdown",
      "metadata": {
        "id": "apzeHgg0EJ1x"
      },
      "source": [
        "2. By far, the top three genres dominate this dataset. Let's concentrate on afro dancehall, afropop, and nigerian pop, additionally filter the dataset to remove anything with a 0 popularity value (meaning it was not classified with a popularity in the dataset and can be considered noise for our purposes):"
      ]
    },
    {
      "cell_type": "code",
      "execution_count": null,
      "metadata": {
        "id": "aX_Pw2HlEJ1x"
      },
      "outputs": [],
      "source": [
        "df = df[(df['artist_top_genre'] == 'afro dancehall') | (df['artist_top_genre'] == 'afropop') | (df['artist_top_genre'] == 'nigerian pop')]\n",
        "df = df[(df['popularity'] > 0)]\n",
        "top = df['artist_top_genre'].value_counts()\n",
        "plt.figure(figsize=(10,7))\n",
        "sns.barplot(x=top.index,y=top.values)\n",
        "plt.xticks(rotation=45)\n",
        "plt.title('Top genres',color = 'blue')"
      ]
    },
    {
      "cell_type": "markdown",
      "metadata": {
        "id": "A-uUedc7EJ1y"
      },
      "source": [
        "3. Do a quick test to see if the data correlates in any particularly strong way:"
      ]
    },
    {
      "cell_type": "code",
      "execution_count": null,
      "metadata": {
        "id": "CQvnLVNPEJ1y"
      },
      "outputs": [],
      "source": [
        "corrmat = df.corr(numeric_only=True)\n",
        "f, ax = plt.subplots(figsize=(12, 9))\n",
        "sns.heatmap(corrmat, vmax=.8, square=True)"
      ]
    },
    {
      "cell_type": "markdown",
      "metadata": {
        "id": "940LM3HeEJ1y"
      },
      "source": [
        "The only strong correlation is between energy and loudness, which is not too surprising, given that loud music is usually pretty energetic. Otherwise, the correlations are relatively weak. It will be interesting to see what a clustering algorithm can make of this data.\n",
        "\n",
        "🎓 Note that correlation does not imply causation! We have proof of correlation but no proof of causation. An __[amusing web site](https://tylervigen.com/spurious-correlations)__ has some visuals that emphasize this point."
      ]
    },
    {
      "cell_type": "markdown",
      "metadata": {
        "id": "kmBcqwLLEJ1y"
      },
      "source": [
        "Is there any convergence in this dataset around a song's perceived popularity and danceability? A FacetGrid shows that there are concentric circles that line up, regardless of genre. Could it be that Nigerian tastes converge at a certain level of danceability for this genre?\n",
        "\n",
        "✅ Try different datapoints (energy, loudness, speechiness) and more or different musical genres. What can you discover? Take a look at the df.describe() table to see the general spread of the data points.\n",
        "\n",
        "## Exercise - data distribution\n",
        "\n",
        "Are these three genres significantly different in the perception of their danceability, based on their popularity?\n",
        "\n",
        "1. Examine our top three genres data distribution for popularity and danceability along a given x and y axis."
      ]
    },
    {
      "cell_type": "code",
      "execution_count": null,
      "metadata": {
        "id": "W8TtPyoVEJ1z"
      },
      "outputs": [],
      "source": [
        "sns.set_theme(style=\"ticks\")\n",
        "\n",
        "g = sns.jointplot(\n",
        "    data=df,\n",
        "    x=\"popularity\", y=\"danceability\", hue=\"artist_top_genre\",\n",
        "    kind=\"kde\",\n",
        ")"
      ]
    },
    {
      "cell_type": "markdown",
      "metadata": {
        "id": "y8Mw-J26EJ1z"
      },
      "source": [
        "You can discover concentric circles around a general point of convergence, showing the distribution of points.\n",
        "\n",
        "🎓 Note that this example uses a KDE (Kernel Density Estimate) graph that represents the data using a continuous probability density curve. This allows us to interpret data when working with multiple distributions.\n",
        "\n",
        "In general, the three genres align loosely in terms of their popularity and danceability. Determining clusters in this loosely-aligned data will be a challenge:"
      ]
    },
    {
      "cell_type": "markdown",
      "metadata": {
        "id": "f3D03EmmEJ10"
      },
      "source": [
        "2. Create a scatter plot:"
      ]
    },
    {
      "cell_type": "code",
      "execution_count": null,
      "metadata": {
        "id": "Vuew-FOWEJ10"
      },
      "outputs": [],
      "source": [
        "sns.FacetGrid(df, hue=\"artist_top_genre\", height=5) \\\n",
        "   .map(plt.scatter, \"popularity\", \"danceability\") \\\n",
        "   .add_legend()\n",
        "\n",
        "# A scatterplot of the same axes shows a similar pattern of convergence"
      ]
    },
    {
      "cell_type": "markdown",
      "metadata": {
        "id": "x8hcIax2EJ11"
      },
      "source": [
        "In general, for clustering, you can use scatterplots to show clusters of data, so mastering this type of visualization is very useful. In the next lesson, we will take this filtered data and use k-means clustering to discover groups in this data that see to overlap in interesting ways."
      ]
    }
  ],
  "metadata": {
    "kernelspec": {
      "display_name": "Python 3",
      "language": "python",
      "name": "python3"
    },
    "language_info": {
      "codemirror_mode": {
        "name": "ipython",
        "version": 3
      },
      "file_extension": ".py",
      "mimetype": "text/x-python",
      "name": "python",
      "nbconvert_exporter": "python",
      "pygments_lexer": "ipython3",
      "version": "3.12.1"
    },
    "colab": {
      "provenance": []
    }
  },
  "nbformat": 4,
  "nbformat_minor": 0
}