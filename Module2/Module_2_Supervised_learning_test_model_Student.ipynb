{
  "cells": [
    {
      "cell_type": "markdown",
      "source": [
        "# Exercise: Supervised learning\n",
        "\n",
        "In this exercise, we want to look at how January temperatures have changed over time in the Seattle area. Now, we'll build a model that achieves this by using supervised learning.\n",
        "\n",
        "With many libraries, we can build a model in only a few lines of code. Here, we'll break down the process into steps so that we can explore how things work.\n",
        "\n",
        "## Four components\n",
        "Recall that there are four key components to supervised learning: the data, the model, the cost function, and the optimizer. Let's inspect these one at a time.\n",
        "\n",
        "### 1. The data\n",
        "\n",
        "We'll use publicly available weather data for Seattle. Let's load that and restrict it to January temperatures."
      ],
      "metadata": {
        "id": "19b555ac-f2cb-4b93-afd3-86fad378b32a"
      },
      "id": "19b555ac-f2cb-4b93-afd3-86fad378b32a"
    },
    {
      "cell_type": "code",
      "source": [
        "import pandas\n",
        "\n",
        "# Download files from the assigned GitHub account. Note that your instructor may ask you upload\n",
        "# files provided to your github account so that you can use them in this exercise.\n",
        "\n",
        "!wget https://[NOTE** change the URL address for this file]/m0b_optimizer.py\n",
        "!wget https://[NOTE** change the URL address for this file]/seattleWeather_1948-2017.csv\n",
        "\n",
        "# Load a file that contains weather data for Seattle\n",
        "data = pandas.read_csv('seattleWeather_1948-2017.csv', parse_dates=['date'])\n",
        "\n",
        "# Keep only January temperatures\n",
        "data = data[[d.month == 1 for d in data.date]].copy()\n",
        "\n",
        "\n",
        "# Print the first and last few rows\n",
        "# Remember that with Jupyter notebooks, the last line of\n",
        "# code is automatically printed\n",
        "data"
      ],
      "outputs": [],
      "execution_count": null,
      "metadata": {
        "id": "d848b4b3"
      },
      "id": "d848b4b3"
    },
    {
      "cell_type": "markdown",
      "source": [
        "We have data from 1948 to 2017, split across 2,170 rows.\n",
        "\n",
        "We'll analyze the relationship between `date` and daily minimum temperatures. Let's take a quick look at our data as a graph.\n"
      ],
      "metadata": {
        "id": "8a282443"
      },
      "id": "8a282443"
    },
    {
      "cell_type": "code",
      "source": [
        "import matplotlib.pyplot as plt\n",
        "\n",
        "# Let's take a quick look at our data\n",
        "\n",
        "plt.scatter(data[\"date\"], data[\"min_temperature\"])\n",
        "\n",
        "# add labels and legend\n",
        "plt.xlabel(\"date\")\n",
        "plt.ylabel(\"min_temperature\")\n",
        "plt.title(\"January Temperatures (°F)\")\n",
        "plt.legend()"
      ],
      "outputs": [],
      "execution_count": null,
      "metadata": {
        "id": "ab632ddb"
      },
      "id": "ab632ddb"
    },
    {
      "cell_type": "markdown",
      "source": [
        "Machine learning usually works best when the X and Y axes have roughly the same range of values. We'll cover why in later learning material. For now, let's just scale our data slightly."
      ],
      "metadata": {
        "id": "b85f46b8"
      },
      "id": "b85f46b8"
    },
    {
      "cell_type": "code",
      "source": [
        "import numpy as np\n",
        "\n",
        "# This block of code scales and offsets the data slightly, which helps the training process\n",
        "# You don't need to understand this code. We'll cover these concepts in later learning material\n",
        "\n",
        "# Offset date into number of years since 1982\n",
        "data[\"years_since_1982\"] = [(d.year + d.timetuple().tm_yday / 365.25) - 1982 for d in data.date]\n",
        "\n",
        "# Scale and offset temperature so that it has a smaller range of values\n",
        "data[\"normalised_temperature\"] = (data[\"min_temperature\"] - np.mean(data[\"min_temperature\"])) / np.std(data[\"min_temperature\"])\n",
        "\n",
        "# Graph\n",
        "plt.scatter(data[\"years_since_1982\"], data[\"normalised_temperature\"])\n",
        "# add labels and legend\n",
        "plt.xlabel(\"years_since_1982\")\n",
        "plt.ylabel(\"normalised_temperature\")\n",
        "plt.title(\"January Temperatures (Normalised)\")\n",
        "plt.legend()"
      ],
      "outputs": [],
      "execution_count": null,
      "metadata": {
        "id": "340b9b4c"
      },
      "id": "340b9b4c"
    },
    {
      "cell_type": "markdown",
      "source": [
        "### 2. The model\n",
        "\n",
        "We'll select a simple linear-regression model. This model uses a line to make estimates. You might have come across trendlines like these before when making graphs."
      ],
      "metadata": {
        "id": "1578966c-64b4-40e9-a649-436455bd0e1b"
      },
      "id": "1578966c-64b4-40e9-a649-436455bd0e1b"
    },
    {
      "cell_type": "code",
      "source": [
        "class MyModel:\n",
        "\n",
        "    def __init__(self):\n",
        "        '''\n",
        "        Creates a new MyModel\n",
        "        '''\n",
        "        # Straight lines described by two parameters:\n",
        "        # The slope is the angle of the line\n",
        "        self.slope = 0\n",
        "        # The intercept moves the line up or down\n",
        "        self.intercept = 0\n",
        "\n",
        "    def predict(self, date):\n",
        "        '''\n",
        "        Estimates the temperature from the date\n",
        "        '''\n",
        "        return date * self.slope + self.intercept\n",
        "\n",
        "# Create our model ready to be trained\n",
        "model = MyModel()\n",
        "\n",
        "print(\"Model made!\")"
      ],
      "outputs": [],
      "execution_count": null,
      "metadata": {
        "id": "32462ac9-3edc-4fdc-9223-b3bae6694fef"
      },
      "id": "32462ac9-3edc-4fdc-9223-b3bae6694fef"
    },
    {
      "cell_type": "markdown",
      "source": [
        "We wouldn't normally use a model before it's been trained, but for the sake of learning, let's take a quick look at it."
      ],
      "metadata": {
        "id": "0a0e6cd0-387c-4042-9d7c-158df80ede6a"
      },
      "id": "0a0e6cd0-387c-4042-9d7c-158df80ede6a"
    },
    {
      "cell_type": "code",
      "source": [
        "print(f\"Model parameters before training: {model.intercept}, {model.slope}\")\n",
        "\n",
        "# Look at how well the model does before training\n",
        "print(\"Model visualised before training:\")\n",
        "\n",
        "plt.scatter(data[\"years_since_1982\"], data[\"normalised_temperature\"])\n",
        "plt.plot(data[\"years_since_1982\"], model.predict(data[\"years_since_1982\"]), 'r', label='Fitted line')\n",
        "\n",
        "\n",
        "# add labels and legend\n",
        "plt.xlabel(\"years_since_1982\")\n",
        "plt.ylabel(\"normalised_temperature\")\n",
        "plt.legend()"
      ],
      "outputs": [],
      "execution_count": null,
      "metadata": {
        "id": "030b111c-3d9f-438d-a92f-ef71a6c45d64"
      },
      "id": "030b111c-3d9f-438d-a92f-ef71a6c45d64"
    },
    {
      "cell_type": "markdown",
      "source": [
        "You can see that before training, our model (the red line) isn't useful at all. It always simply predicts zero.\n",
        "\n",
        "### 3. The cost (objective) function\n",
        "\n",
        "Our next step is to create a _cost function_ (_objective function_).\n",
        "\n",
        "These functions in supervised learning compare the model's estimate to the correct answer. In our case, our label is temperature, so our cost function compares the estimated temperature to temperatures seen in the historical records."
      ],
      "metadata": {
        "id": "4f84b97e-580c-4b19-b26e-50aabf3f36fc"
      },
      "id": "4f84b97e-580c-4b19-b26e-50aabf3f36fc"
    },
    {
      "cell_type": "code",
      "source": [
        "def cost_function(actual_temperatures, estimated_temperatures):\n",
        "    '''\n",
        "    Calculates the difference between actual and estimated temperatures\n",
        "    Returns the difference, and also returns the squared difference (the cost)\n",
        "\n",
        "    actual_temperatures: One or more temperatures recorded in the past\n",
        "    estimated_temperatures: Corresponding temperature(s) estimated by the model\n",
        "    '''\n",
        "\n",
        "    # Calculate the difference between actual temperatures and those\n",
        "    # estimated by the model\n",
        "    difference = estimated_temperatures - actual_temperatures\n",
        "\n",
        "    # Convert to a single number that tells us how well the model did\n",
        "    # (smaller numbers are better)\n",
        "    cost = sum(difference ** 2)\n",
        "\n",
        "    return difference, cost"
      ],
      "outputs": [],
      "execution_count": null,
      "metadata": {
        "id": "f1a1c06b-e5c3-46dd-b18b-b47f6a54d210"
      },
      "id": "f1a1c06b-e5c3-46dd-b18b-b47f6a54d210"
    },
    {
      "cell_type": "markdown",
      "source": [
        "### 4. The optimizer\n",
        "\n",
        "The optimizer's role is to guess new parameter values for the model.\n",
        "\n",
        "We haven't covered optimizers in detail yet, so to make things simple, we'll use an prewritten optimizer provided by your instructor."
      ],
      "metadata": {
        "id": "a833ca95-7835-4a2b-9aee-f571debb791d"
      },
      "id": "a833ca95-7835-4a2b-9aee-f571debb791d"
    },
    {
      "cell_type": "code",
      "source": [
        "from m0b_optimizer import MyOptimizer\n",
        "\n",
        "# Create an optimizer\n",
        "optimizer = MyOptimizer()"
      ],
      "outputs": [],
      "execution_count": null,
      "metadata": {
        "id": "d51632f5-1e50-4121-a849-ced4ed04a824"
      },
      "id": "d51632f5-1e50-4121-a849-ced4ed04a824"
    },
    {
      "cell_type": "markdown",
      "source": [
        "## The training loop\n",
        "\n",
        "Let's put these components together so that they train the model.\n",
        "\n",
        "First, let's make a function that performs one iteration of training. Read each step carefully in the following code. If you want, add some `print()` statements inside the method to help you see the training in action."
      ],
      "metadata": {
        "id": "44d49fea-9bab-4663-9f7a-4335a768b9c0"
      },
      "id": "44d49fea-9bab-4663-9f7a-4335a768b9c0"
    },
    {
      "cell_type": "code",
      "source": [
        "def train_one_iteration(model_inputs, true_temperatures, last_cost:float):\n",
        "    '''\n",
        "    Runs a single iteration of training.\n",
        "\n",
        "\n",
        "    model_inputs: One or more dates to provide the model (dates)\n",
        "    true_temperatues: Corresponding temperatures known to occur on those dates\n",
        "\n",
        "    Returns:\n",
        "        A Boolean, as to whether training should continue\n",
        "        The cost calculated (small numbers are better)\n",
        "    '''\n",
        "\n",
        "    # === USE THE MODEL ===\n",
        "    # Estimate temperatures for all data that we have\n",
        "    estimated_temperatures = model.predict(model_inputs)\n",
        "\n",
        "    # === OBJECTIVE FUNCTION ===\n",
        "    # Calculate how well the model is working\n",
        "    # Smaller numbers are better\n",
        "    difference, cost = cost_function(true_temperatures, estimated_temperatures)\n",
        "\n",
        "    # Decide whether to keep training\n",
        "    # We'll stop if the training is no longer improving the model effectively\n",
        "    if cost >= last_cost:\n",
        "        # Stop training\n",
        "        return False, cost\n",
        "    else:\n",
        "        # === OPTIMIZER ===\n",
        "        # Calculate updates to parameters\n",
        "        intercept_update, slope_update = optimizer.get_parameter_updates(model_inputs, cost, difference)\n",
        "\n",
        "        # Change the model parameters\n",
        "        model.slope += slope_update\n",
        "        model.intercept += intercept_update\n",
        "\n",
        "        return True, cost\n",
        "\n",
        "print(\"Training method ready\")"
      ],
      "outputs": [],
      "execution_count": null,
      "metadata": {
        "id": "d9705fa8-4562-4d15-93d8-883dd4b03456"
      },
      "id": "d9705fa8-4562-4d15-93d8-883dd4b03456"
    },
    {
      "cell_type": "markdown",
      "source": [
        "Let's run a few iterations manually, so that you can watch how training works.\n",
        "\n",
        "Run the following code several times and note how the model changes."
      ],
      "metadata": {
        "id": "6c0cc94e-153a-45e9-9bb2-e63daf21f3af"
      },
      "id": "6c0cc94e-153a-45e9-9bb2-e63daf21f3af"
    },
    {
      "cell_type": "code",
      "source": [
        "import math\n",
        "\n",
        "print(f\"Model parameters before training:\\t\\t{model.intercept:.8f},\\t{model.slope:.8f}\")\n",
        "\n",
        "continue_loop, cost = train_one_iteration(model_inputs = data[\"years_since_1982\"],\n",
        "                                                    true_temperatures = data[\"normalised_temperature\"],\n",
        "                                                    last_cost = math.inf)\n",
        "\n",
        "print(f\"Model parameters after 1 iteration of training:\\t{model.intercept:.8f},\\t{model.slope:.8f}\")\n"
      ],
      "outputs": [],
      "execution_count": null,
      "metadata": {
        "id": "99d3d1c1-9370-4a35-b767-e8366250304c"
      },
      "id": "99d3d1c1-9370-4a35-b767-e8366250304c"
    },
    {
      "cell_type": "markdown",
      "source": [
        "It'll take thousands of iterations to train the model well, so let's wrap it in a loop."
      ],
      "metadata": {
        "id": "aa4408b5-9b3a-47b6-8233-61ed69ce6ebb"
      },
      "id": "aa4408b5-9b3a-47b6-8233-61ed69ce6ebb"
    },
    {
      "cell_type": "code",
      "source": [
        "\n",
        "# Start the loop\n",
        "print(\"Training beginning...\")\n",
        "last_cost = math.inf\n",
        "i = 0\n",
        "continue_loop = True\n",
        "while continue_loop:\n",
        "\n",
        "    # Run one iteration of training\n",
        "    # This will tell us whether to stop training, and also what\n",
        "    # the cost was for this iteration\n",
        "    continue_loop, last_cost = train_one_iteration(model_inputs = data[\"years_since_1982\"],\n",
        "                                                    true_temperatures = data[\"normalised_temperature\"],\n",
        "                                                    last_cost = last_cost)\n",
        "\n",
        "    # Print the status\n",
        "    if i % 400 == 0:\n",
        "        print(\"Iteration:\", i)\n",
        "\n",
        "    i += 1\n",
        "\n",
        "\n",
        "print(\"Training complete!\")\n",
        "print(f\"Model parameters after training:\\t{model.intercept:.8f},\\t{model.slope:.8f}\")\n",
        "\n",
        "plt.scatter(data[\"years_since_1982\"], data[\"normalised_temperature\"])\n",
        "plt.plot(data[\"years_since_1982\"], model.predict(data[\"years_since_1982\"]), 'r', label='Fitted line')\n",
        "\n",
        "# add labels and legend\n",
        "plt.xlabel(\"years_since_1982\")\n",
        "plt.ylabel(\"normalised_temperature\")\n",
        "plt.legend()"
      ],
      "outputs": [],
      "execution_count": null,
      "metadata": {
        "tags": [],
        "id": "5cbabafa-2f25-4c67-9c38-d8c528017d67"
      },
      "id": "5cbabafa-2f25-4c67-9c38-d8c528017d67"
    },
    {
      "cell_type": "markdown",
      "source": [
        "Notice how now that the model is trained, it's giving more sensible predictions about January temperatures.\n",
        "\n",
        "Interestingly, the model shows temperatures going up over time. Perhaps we need to stop feeding grain to our elk earlier in the year!\n",
        "\n",
        "## Summary\n",
        "\n",
        "In this exercise, we split up supervised learning into its individual stages to see what's going on in code when we use third-party libraries. The important point to take away is how these pieces fit together. Note that most parts of this process require data."
      ],
      "metadata": {
        "id": "5b9a3658-837c-4636-a871-b1f3aae7d26c"
      },
      "id": "5b9a3658-837c-4636-a871-b1f3aae7d26c"
    }
  ],
  "metadata": {
    "kernel_info": {
      "name": "conda-env-azureml_py38-py"
    },
    "kernelspec": {
      "name": "conda-env-azureml_py38-py",
      "language": "python",
      "display_name": "azureml_py38"
    },
    "language_info": {
      "name": "python",
      "version": "3.8.5",
      "mimetype": "text/x-python",
      "codemirror_mode": {
        "name": "ipython",
        "version": 3
      },
      "pygments_lexer": "ipython3",
      "nbconvert_exporter": "python",
      "file_extension": ".py"
    },
    "nteract": {
      "version": "nteract-front-end@1.0.0"
    },
    "colab": {
      "provenance": []
    }
  },
  "nbformat": 4,
  "nbformat_minor": 5
}
